{
  "nbformat": 4,
  "nbformat_minor": 0,
  "metadata": {
    "colab": {
      "name": "generate_param_space",
      "private_outputs": true,
      "provenance": [],
      "collapsed_sections": [],
      "toc_visible": true
    },
    "kernelspec": {
      "name": "python3",
      "display_name": "Python 3"
    },
    "accelerator": "GPU"
  },
  "cells": [
    {
      "cell_type": "code",
      "metadata": {
        "id": "ZkLdNoJXmnkk"
      },
      "source": [
        "from google.colab import drive\n",
        "drive.mount('/content/drive')"
      ],
      "execution_count": null,
      "outputs": []
    },
    {
      "cell_type": "markdown",
      "metadata": {
        "id": "i_Ph9Y3pZKJD"
      },
      "source": [
        "# Install and import"
      ]
    },
    {
      "cell_type": "code",
      "metadata": {
        "id": "HgJ9TmSA2n98"
      },
      "source": [
        "%tensorflow_version 2.x\n",
        "!pip install -qU ddsp==0.14.0"
      ],
      "execution_count": null,
      "outputs": []
    },
    {
      "cell_type": "code",
      "metadata": {
        "id": "7W2szb7o-PT8"
      },
      "source": [
        "import os\n",
        "import glob\n",
        "import gin\n",
        "\n",
        "import numpy as np\n",
        "import tensorflow as tf\n",
        "\n",
        "import ddsp.training\n",
        "from ddsp.colab import colab_utils\n",
        "from ddsp.colab.colab_utils import play, specplot\n",
        "\n",
        "from matplotlib import pyplot as plt\n",
        "%config InlineBackend.figure_format='retina'\n",
        "\n",
        "%reload_ext tensorboard\n",
        "import tensorboard as tb"
      ],
      "execution_count": null,
      "outputs": []
    },
    {
      "cell_type": "code",
      "metadata": {
        "id": "by27WYauyszx"
      },
      "source": [
        "gpu_info = !nvidia-smi\n",
        "gpu_info = '\\n'.join(gpu_info)\n",
        "if gpu_info.find('failed') >= 0:\n",
        "  print('Select the Runtime > \"Change runtime type\" menu to enable a GPU accelerator, ')\n",
        "  print('and then re-execute this cell.')\n",
        "else:\n",
        "  print(gpu_info)"
      ],
      "execution_count": null,
      "outputs": []
    },
    {
      "cell_type": "markdown",
      "metadata": {
        "id": "tzEIK9H1zWKF"
      },
      "source": [
        "# Define folders"
      ]
    },
    {
      "cell_type": "code",
      "metadata": {
        "id": "NRjan40PzSeb"
      },
      "source": [
        "INSTRUMENT = 'eva' \n",
        "\n",
        "DRIVE_BASE_DIR = '/content/drive/My Drive/SMC 09/DDSP/eval'\n",
        "DRIVE_DATASET_DIR = DRIVE_BASE_DIR + '/' + INSTRUMENT + '_dataset' \n",
        "\n",
        "assert os.path.exists(DRIVE_DATASET_DIR)\n",
        "\n",
        "TRAIN_TFRECORD_FILEPATTERN = 'data/' + INSTRUMENT + '_dataset/train.tfrecord*'"
      ],
      "execution_count": null,
      "outputs": []
    },
    {
      "cell_type": "markdown",
      "metadata": {
        "id": "2BC_WQjxzsSe"
      },
      "source": [
        "# Copy dataset to Colab"
      ]
    },
    {
      "cell_type": "code",
      "metadata": {
        "id": "04UQn0zmjha6"
      },
      "source": [
        "dataset_files = glob.glob(DRIVE_DATASET_DIR + '/*')\n",
        "\n",
        "#Copy the dataset from Drive to Colab\n",
        "print(\"Restoring dataset for \" + INSTRUMENT)\n",
        "!mkdir -p 'data/'$INSTRUMENT'_dataset'\n",
        "!cp \"$DRIVE_DATASET_DIR\"/* 'data/'$INSTRUMENT'_dataset/'"
      ],
      "execution_count": null,
      "outputs": []
    },
    {
      "cell_type": "markdown",
      "metadata": {
        "id": "LrFAAZbL03cA"
      },
      "source": [
        "# Sanity check 1\n",
        "Choose a frame, plot it, play and show F0, confidence and loudness values.\n"
      ]
    },
    {
      "cell_type": "code",
      "metadata": {
        "id": "WrclnFvPq63B"
      },
      "source": [
        "data_provider = ddsp.training.data.TFRecordProvider(TRAIN_TFRECORD_FILEPATTERN)\n",
        "dataset = data_provider.get_dataset(shuffle=False)\n",
        "\n",
        "try:\n",
        "  ex = next(iter(dataset))\n",
        "except StopIteration:\n",
        "  raise ValueError(\n",
        "      'TFRecord contains no examples. Please try re-running the pipeline with '\n",
        "      'different audio file(s).')\n",
        "\n",
        "colab_utils.specplot(ex['audio'])\n",
        "colab_utils.play(ex['audio'])\n",
        "\n",
        "f, ax = plt.subplots(3, 1, figsize=(12, 8))\n",
        "x = np.linspace(0, 4.0, 1000)\n",
        "ax[0].set_ylabel('loudness_db')\n",
        "ax[0].plot(x, ex['loudness_db'])\n",
        "ax[1].set_ylabel('F0_Hz')\n",
        "ax[1].set_xlabel('seconds')\n",
        "ax[1].plot(x, ex['f0_hz'])\n",
        "ax[2].set_ylabel('F0_confidence')\n",
        "ax[2].set_xlabel('seconds')\n",
        "_ = ax[2].plot(x, ex['f0_confidence'])"
      ],
      "execution_count": null,
      "outputs": []
    },
    {
      "cell_type": "markdown",
      "metadata": {
        "id": "IkQoe81irm9d"
      },
      "source": [
        "#Set loop"
      ]
    },
    {
      "cell_type": "code",
      "metadata": {
        "id": "73cEL_LarmmV"
      },
      "source": [
        "max_steps = 20000\n",
        "steps_per_loop = 6500\n",
        "\n",
        "\n",
        "for hyperparams in [(20,10),(20,35),(20,65),(60,10),(60,35),(60,65),(100,10),(100,35),(100,65)]:\n",
        "\n",
        "    harmonic_distribution, noise_magnitudes = hyperparams\n",
        "  \n",
        "    DRIVE_CHECKPOINTS_DIR = DRIVE_BASE_DIR + '/' + INSTRUMENT + \\\n",
        "                            '_h' + str(harmonic_distribution) + \\\n",
        "                            '_n' + str(noise_magnitudes) + \\\n",
        "                            '_checkpoints'\n",
        "\n",
        "    CHECKPOINT_ZIP = INSTRUMENT +\\\n",
        "                            '_h' + str(harmonic_distribution) + \\\n",
        "                            '_n' + str(noise_magnitudes) + \\\n",
        "                            '_instrument.zip'\n",
        "\n",
        "    latest = tf.train.latest_checkpoint(DRIVE_CHECKPOINTS_DIR)\n",
        "    if(latest is None):\n",
        "      latest = 0\n",
        "    else:\n",
        "      latest = int(os.path.basename(latest)[5:])\n",
        "\n",
        "    if (latest >= max_steps):\n",
        "      print(\"Skipping h: \" + str(harmonic_distribution) + \\\n",
        "                            \" n: \" + str(noise_magnitudes) + \"\\n\")\n",
        "      continue\n",
        "\n",
        "    num_steps = min(steps_per_loop, max_steps-latest)\n",
        "    print(\"Training for {} steps\".format(num_steps))\n",
        "\n",
        "    !ddsp_run \\\n",
        "      --mode=train \\\n",
        "      --alsologtostderr \\\n",
        "      --save_dir=\"$DRIVE_CHECKPOINTS_DIR\" \\\n",
        "      --gin_file='$DRIVE_BASE_DIR/singing.gin' \\\n",
        "      --gin_file=datasets/tfrecord.gin \\\n",
        "      --gin_param=\"TFRecordProvider.file_pattern='$TRAIN_TFRECORD_FILEPATTERN'\" \\\n",
        "      --gin_param=\"batch_size=32\" \\\n",
        "      --gin_param=\"train_util.train.num_steps=$num_steps\" \\\n",
        "      --gin_param=\"train_util.train.steps_per_save=500\" \\\n",
        "      --gin_param=\"train_util.train.steps_per_summary=500\" \\\n",
        "      --gin_param=\"trainers.Trainer.checkpoints_to_keep=5\" \\\n",
        "      --gin_param=\"RnnFcDecoder.output_splits = (('amps', 1),('harmonic_distribution', $harmonic_distribution),('noise_magnitudes', $noise_magnitudes))\"\n",
        "\n",
        "    latest_checkpoint_fname = os.path.basename(tf.train.latest_checkpoint(DRIVE_CHECKPOINTS_DIR))\n",
        "\n",
        "    !cp \"$DRIVE_DATASET_DIR/dataset_statistics.pkl\" \"$DRIVE_CHECKPOINTS_DIR\"\n",
        "    !cd \"$DRIVE_CHECKPOINTS_DIR\" && zip $CHECKPOINT_ZIP $latest_checkpoint_fname* operative_config-0.gin dataset_statistics.pkl    \n",
        "    !mv \"$DRIVE_CHECKPOINTS_DIR/$CHECKPOINT_ZIP\" \"$DRIVE_BASE_DIR/\" \n",
        "    #tb.notebook.start('--logdir \"{}\"'.format(DRIVE_CHECKPOINTS_DIR))    "
      ],
      "execution_count": null,
      "outputs": []
    },
    {
      "cell_type": "markdown",
      "metadata": {
        "id": "ktxbxVqE-esc"
      },
      "source": [
        "# Sanity check 2\n",
        "Resynthesis of a existing frame"
      ]
    },
    {
      "cell_type": "code",
      "metadata": {
        "id": "UOOqY4DgibLs"
      },
      "source": [
        "data_provider = ddsp.training.data.TFRecordProvider(TRAIN_TFRECORD_FILEPATTERN)\n",
        "dataset = data_provider.get_batch(batch_size=1, shuffle=False)\n",
        "\n",
        "try:\n",
        "  batch = next(iter(dataset))\n",
        "except OutOfRangeError:\n",
        "  raise ValueError(\n",
        "      'TFRecord contains no examples.')\n",
        "\n",
        "# Parse the gin config.\n",
        "gin_file = os.path.join(DRIVE_CHECKPOINTS_DIR, 'operative_config-0.gin')\n",
        "gin.parse_config_file(gin_file)\n",
        "\n",
        "# Load model\n",
        "model = ddsp.training.models.Autoencoder()\n",
        "model.restore(DRIVE_CHECKPOINTS_DIR)\n",
        "\n",
        "# Original audio\n",
        "audio_orig = batch['audio']\n",
        "\n",
        "# Resynthesized audio\n",
        "\n",
        "#v0.14\n",
        "outputs = model(batch, training=False)\n",
        "audio_gen = model.get_audio_from_outputs(outputs)\n",
        "\n",
        "#v0.13\n",
        "#audio_gen = model(batch, training=False)\n",
        "#audio_gen = audio_gen['add']['signal']\n",
        "#audio_gen = audio_gen['additive']['signal']\n",
        "#audio_gen = audio_gen['filtered_noise']['signal']\n",
        "\n",
        "print('Original Audio')\n",
        "specplot(audio_orig)\n",
        "play(audio_orig)\n",
        "\n",
        "print('Resynthesis')\n",
        "specplot(audio_gen)\n",
        "play(audio_gen)"
      ],
      "execution_count": null,
      "outputs": []
    }
  ]
}