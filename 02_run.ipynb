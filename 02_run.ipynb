{
  "nbformat": 4,
  "nbformat_minor": 0,
  "metadata": {
    "accelerator": "GPU",
    "colab": {
      "name": "02_run",
      "provenance": [],
      "collapsed_sections": [
        "cDjCZ1hHEHmS",
        "BMH14x2OFA0c"
      ]
    },
    "kernelspec": {
      "display_name": "Python 3",
      "name": "python3"
    },
    "widgets": {
      "application/vnd.jupyter.widget-state+json": {
        "31dc19ccff80401881afd6c1a8388474": {
          "model_module": "@jupyter-widgets/controls",
          "model_name": "VBoxModel",
          "state": {
            "_view_name": "VBoxView",
            "_dom_classes": [
              "widget-interact"
            ],
            "_model_name": "VBoxModel",
            "_view_module": "@jupyter-widgets/controls",
            "_model_module_version": "1.5.0",
            "_view_count": null,
            "_view_module_version": "1.5.0",
            "box_style": "",
            "layout": "IPY_MODEL_2790b31acc094ea096ba3269abf4e54e",
            "_model_module": "@jupyter-widgets/controls",
            "children": [
              "IPY_MODEL_a4314bf9ed4c4669bcd0020a5e0214cf",
              "IPY_MODEL_64443ad25e5b4009adab2e7908e710fc"
            ]
          }
        },
        "2790b31acc094ea096ba3269abf4e54e": {
          "model_module": "@jupyter-widgets/base",
          "model_name": "LayoutModel",
          "state": {
            "_view_name": "LayoutView",
            "grid_template_rows": null,
            "right": null,
            "justify_content": null,
            "_view_module": "@jupyter-widgets/base",
            "overflow": null,
            "_model_module_version": "1.2.0",
            "_view_count": null,
            "flex_flow": null,
            "width": null,
            "min_width": null,
            "border": null,
            "align_items": null,
            "bottom": null,
            "_model_module": "@jupyter-widgets/base",
            "top": null,
            "grid_column": null,
            "overflow_y": null,
            "overflow_x": null,
            "grid_auto_flow": null,
            "grid_area": null,
            "grid_template_columns": null,
            "flex": null,
            "_model_name": "LayoutModel",
            "justify_items": null,
            "grid_row": null,
            "max_height": null,
            "align_content": null,
            "visibility": null,
            "align_self": null,
            "height": null,
            "min_height": null,
            "padding": null,
            "grid_auto_rows": null,
            "grid_gap": null,
            "max_width": null,
            "order": null,
            "_view_module_version": "1.2.0",
            "grid_template_areas": null,
            "object_position": null,
            "object_fit": null,
            "grid_auto_columns": null,
            "margin": null,
            "display": null,
            "left": null
          }
        },
        "a4314bf9ed4c4669bcd0020a5e0214cf": {
          "model_module": "@jupyter-widgets/controls",
          "model_name": "DropdownModel",
          "state": {
            "_options_labels": [
              "alba_40k_instrument.zip",
              "belen_40k_instrument.zip",
              "belenz_instrument.zip",
              "eva_40k_instrument.zip",
              "mrallsop_40k_instrument.zip",
              "servando_40k_instrument.zip",
              "servandomod_instrument.zip",
              "violin_instrument.zip",
              "voices2_40k_instrument.zip",
              "voices3_120k_instrument.zip",
              "voices3_40k_instrument.zip",
              "voices3_80k_instrument.zip",
              "voicesmod_instrument.zip"
            ],
            "_view_name": "DropdownView",
            "style": "IPY_MODEL_b7b0302d72864902aef1721952a4c57b",
            "_dom_classes": [],
            "description": "Instrument:",
            "_model_name": "DropdownModel",
            "index": 2,
            "_view_module": "@jupyter-widgets/controls",
            "_model_module_version": "1.5.0",
            "_view_count": null,
            "disabled": false,
            "_view_module_version": "1.5.0",
            "description_tooltip": null,
            "_model_module": "@jupyter-widgets/controls",
            "layout": "IPY_MODEL_2f40d374146d4c85a9b824b2e1929a24"
          }
        },
        "64443ad25e5b4009adab2e7908e710fc": {
          "model_module": "@jupyter-widgets/output",
          "model_name": "OutputModel",
          "state": {
            "_view_name": "OutputView",
            "msg_id": "",
            "_dom_classes": [],
            "_model_name": "OutputModel",
            "outputs": [
              {
                "output_type": "stream",
                "metadata": {
                  "tags": []
                },
                "text": "Loading the model...\nUnziping belenz_instrument.zip\nrm: cannot remove 'data/instruments/current': No such file or directory\n",
                "stream": "stdout"
              },
              {
                "output_type": "stream",
                "metadata": {
                  "tags": []
                },
                "text": "Loading dataset statistics from data/instruments/current/dataset_statistics.pkl\nRestoring checkpoint ckpt-10000 took 1.1 seconds\n",
                "stream": "stdout"
              }
            ],
            "_view_module": "@jupyter-widgets/output",
            "_model_module_version": "1.0.0",
            "_view_count": null,
            "_view_module_version": "1.0.0",
            "layout": "IPY_MODEL_85d42430227441f0b6640d1c8073e966",
            "_model_module": "@jupyter-widgets/output"
          }
        },
        "b7b0302d72864902aef1721952a4c57b": {
          "model_module": "@jupyter-widgets/controls",
          "model_name": "DescriptionStyleModel",
          "state": {
            "_view_name": "StyleView",
            "_model_name": "DescriptionStyleModel",
            "description_width": "",
            "_view_module": "@jupyter-widgets/base",
            "_model_module_version": "1.5.0",
            "_view_count": null,
            "_view_module_version": "1.2.0",
            "_model_module": "@jupyter-widgets/controls"
          }
        },
        "2f40d374146d4c85a9b824b2e1929a24": {
          "model_module": "@jupyter-widgets/base",
          "model_name": "LayoutModel",
          "state": {
            "_view_name": "LayoutView",
            "grid_template_rows": null,
            "right": null,
            "justify_content": null,
            "_view_module": "@jupyter-widgets/base",
            "overflow": null,
            "_model_module_version": "1.2.0",
            "_view_count": null,
            "flex_flow": null,
            "width": null,
            "min_width": null,
            "border": null,
            "align_items": null,
            "bottom": null,
            "_model_module": "@jupyter-widgets/base",
            "top": null,
            "grid_column": null,
            "overflow_y": null,
            "overflow_x": null,
            "grid_auto_flow": null,
            "grid_area": null,
            "grid_template_columns": null,
            "flex": null,
            "_model_name": "LayoutModel",
            "justify_items": null,
            "grid_row": null,
            "max_height": null,
            "align_content": null,
            "visibility": null,
            "align_self": null,
            "height": null,
            "min_height": null,
            "padding": null,
            "grid_auto_rows": null,
            "grid_gap": null,
            "max_width": null,
            "order": null,
            "_view_module_version": "1.2.0",
            "grid_template_areas": null,
            "object_position": null,
            "object_fit": null,
            "grid_auto_columns": null,
            "margin": null,
            "display": null,
            "left": null
          }
        },
        "85d42430227441f0b6640d1c8073e966": {
          "model_module": "@jupyter-widgets/base",
          "model_name": "LayoutModel",
          "state": {
            "_view_name": "LayoutView",
            "grid_template_rows": null,
            "right": null,
            "justify_content": null,
            "_view_module": "@jupyter-widgets/base",
            "overflow": null,
            "_model_module_version": "1.2.0",
            "_view_count": null,
            "flex_flow": null,
            "width": null,
            "min_width": null,
            "border": null,
            "align_items": null,
            "bottom": null,
            "_model_module": "@jupyter-widgets/base",
            "top": null,
            "grid_column": null,
            "overflow_y": null,
            "overflow_x": null,
            "grid_auto_flow": null,
            "grid_area": null,
            "grid_template_columns": null,
            "flex": null,
            "_model_name": "LayoutModel",
            "justify_items": null,
            "grid_row": null,
            "max_height": null,
            "align_content": null,
            "visibility": null,
            "align_self": null,
            "height": null,
            "min_height": null,
            "padding": null,
            "grid_auto_rows": null,
            "grid_gap": null,
            "max_width": null,
            "order": null,
            "_view_module_version": "1.2.0",
            "grid_template_areas": null,
            "object_position": null,
            "object_fit": null,
            "grid_auto_columns": null,
            "margin": null,
            "display": null,
            "left": null
          }
        },
        "d4019fbe2f8c4418b6565a1f310ee3a5": {
          "model_module": "@jupyter-widgets/controls",
          "model_name": "VBoxModel",
          "state": {
            "_view_name": "VBoxView",
            "_dom_classes": [
              "widget-interact"
            ],
            "_model_name": "VBoxModel",
            "_view_module": "@jupyter-widgets/controls",
            "_model_module_version": "1.5.0",
            "_view_count": null,
            "_view_module_version": "1.5.0",
            "box_style": "",
            "layout": "IPY_MODEL_315c384b0e2047318cefa82ebabfcda1",
            "_model_module": "@jupyter-widgets/controls",
            "children": [
              "IPY_MODEL_62e255bf74aa4549af4e7014762f62eb",
              "IPY_MODEL_60f49e3dd6564a7e89bd36d121464b15"
            ]
          }
        },
        "315c384b0e2047318cefa82ebabfcda1": {
          "model_module": "@jupyter-widgets/base",
          "model_name": "LayoutModel",
          "state": {
            "_view_name": "LayoutView",
            "grid_template_rows": null,
            "right": null,
            "justify_content": null,
            "_view_module": "@jupyter-widgets/base",
            "overflow": null,
            "_model_module_version": "1.2.0",
            "_view_count": null,
            "flex_flow": null,
            "width": null,
            "min_width": null,
            "border": null,
            "align_items": null,
            "bottom": null,
            "_model_module": "@jupyter-widgets/base",
            "top": null,
            "grid_column": null,
            "overflow_y": null,
            "overflow_x": null,
            "grid_auto_flow": null,
            "grid_area": null,
            "grid_template_columns": null,
            "flex": null,
            "_model_name": "LayoutModel",
            "justify_items": null,
            "grid_row": null,
            "max_height": null,
            "align_content": null,
            "visibility": null,
            "align_self": null,
            "height": null,
            "min_height": null,
            "padding": null,
            "grid_auto_rows": null,
            "grid_gap": null,
            "max_width": null,
            "order": null,
            "_view_module_version": "1.2.0",
            "grid_template_areas": null,
            "object_position": null,
            "object_fit": null,
            "grid_auto_columns": null,
            "margin": null,
            "display": null,
            "left": null
          }
        },
        "62e255bf74aa4549af4e7014762f62eb": {
          "model_module": "@jupyter-widgets/controls",
          "model_name": "DropdownModel",
          "state": {
            "_options_labels": [
              "instr_cello.mp3",
              "instr_family.mp3",
              "instr_glocken.mp3",
              "instr_knee_play_2_02.mp3",
              "instr_la_monja_enana.mp3",
              "instr_violin.mp3",
              "song_battiato_1.mp3",
              "song_battiato_2.mp3",
              "song_black_hole_sun_01.mp3",
              "song_black_hole_sun_02.mp3",
              "song_fresones_rebeldes.mp3",
              "song_hallelujah.mp3",
              "song_hutter_1.wav",
              "song_rainbow.mp3",
              "song_revolucion_01.mp3",
              "song_revolucion_02.mp3",
              "song_revolucion_03.mp3",
              "song_smells_like_teen_spirit_01.mp3",
              "song_smells_like_teen_spirit_02.mp3",
              "speech_mrallsophistory.mp3"
            ],
            "_view_name": "DropdownView",
            "style": "IPY_MODEL_09eca9ec913545c3849167f999445179",
            "_dom_classes": [],
            "description": "Example:",
            "_model_name": "DropdownModel",
            "index": 13,
            "_view_module": "@jupyter-widgets/controls",
            "_model_module_version": "1.5.0",
            "_view_count": null,
            "disabled": false,
            "_view_module_version": "1.5.0",
            "description_tooltip": null,
            "_model_module": "@jupyter-widgets/controls",
            "layout": "IPY_MODEL_63bf8795749a45a49e6e6150dadba15e"
          }
        },
        "60f49e3dd6564a7e89bd36d121464b15": {
          "model_module": "@jupyter-widgets/output",
          "model_name": "OutputModel",
          "state": {
            "_view_name": "OutputView",
            "msg_id": "",
            "_dom_classes": [],
            "_model_name": "OutputModel",
            "outputs": [
              {
                "output_type": "stream",
                "metadata": {
                  "tags": []
                },
                "text": "Loading audio and extracting features...\n",
                "stream": "stdout"
              },
              {
                "output_type": "stream",
                "metadata": {
                  "tags": []
                },
                "text": "Operation took 13.0 seconds\nRestoring model from load_example\n",
                "stream": "stdout"
              }
            ],
            "_view_module": "@jupyter-widgets/output",
            "_model_module_version": "1.0.0",
            "_view_count": null,
            "_view_module_version": "1.0.0",
            "layout": "IPY_MODEL_65af0bdf9e314dd88e38a7b48921348a",
            "_model_module": "@jupyter-widgets/output"
          }
        },
        "09eca9ec913545c3849167f999445179": {
          "model_module": "@jupyter-widgets/controls",
          "model_name": "DescriptionStyleModel",
          "state": {
            "_view_name": "StyleView",
            "_model_name": "DescriptionStyleModel",
            "description_width": "",
            "_view_module": "@jupyter-widgets/base",
            "_model_module_version": "1.5.0",
            "_view_count": null,
            "_view_module_version": "1.2.0",
            "_model_module": "@jupyter-widgets/controls"
          }
        },
        "63bf8795749a45a49e6e6150dadba15e": {
          "model_module": "@jupyter-widgets/base",
          "model_name": "LayoutModel",
          "state": {
            "_view_name": "LayoutView",
            "grid_template_rows": null,
            "right": null,
            "justify_content": null,
            "_view_module": "@jupyter-widgets/base",
            "overflow": null,
            "_model_module_version": "1.2.0",
            "_view_count": null,
            "flex_flow": null,
            "width": null,
            "min_width": null,
            "border": null,
            "align_items": null,
            "bottom": null,
            "_model_module": "@jupyter-widgets/base",
            "top": null,
            "grid_column": null,
            "overflow_y": null,
            "overflow_x": null,
            "grid_auto_flow": null,
            "grid_area": null,
            "grid_template_columns": null,
            "flex": null,
            "_model_name": "LayoutModel",
            "justify_items": null,
            "grid_row": null,
            "max_height": null,
            "align_content": null,
            "visibility": null,
            "align_self": null,
            "height": null,
            "min_height": null,
            "padding": null,
            "grid_auto_rows": null,
            "grid_gap": null,
            "max_width": null,
            "order": null,
            "_view_module_version": "1.2.0",
            "grid_template_areas": null,
            "object_position": null,
            "object_fit": null,
            "grid_auto_columns": null,
            "margin": null,
            "display": null,
            "left": null
          }
        },
        "65af0bdf9e314dd88e38a7b48921348a": {
          "model_module": "@jupyter-widgets/base",
          "model_name": "LayoutModel",
          "state": {
            "_view_name": "LayoutView",
            "grid_template_rows": null,
            "right": null,
            "justify_content": null,
            "_view_module": "@jupyter-widgets/base",
            "overflow": null,
            "_model_module_version": "1.2.0",
            "_view_count": null,
            "flex_flow": null,
            "width": null,
            "min_width": null,
            "border": null,
            "align_items": null,
            "bottom": null,
            "_model_module": "@jupyter-widgets/base",
            "top": null,
            "grid_column": null,
            "overflow_y": null,
            "overflow_x": null,
            "grid_auto_flow": null,
            "grid_area": null,
            "grid_template_columns": null,
            "flex": null,
            "_model_name": "LayoutModel",
            "justify_items": null,
            "grid_row": null,
            "max_height": null,
            "align_content": null,
            "visibility": null,
            "align_self": null,
            "height": null,
            "min_height": null,
            "padding": null,
            "grid_auto_rows": null,
            "grid_gap": null,
            "max_width": null,
            "order": null,
            "_view_module_version": "1.2.0",
            "grid_template_areas": null,
            "object_position": null,
            "object_fit": null,
            "grid_auto_columns": null,
            "margin": null,
            "display": null,
            "left": null
          }
        },
        "e8ce8981fa0f45f68997b419f8f7856b": {
          "model_module": "@jupyter-widgets/controls",
          "model_name": "CheckboxModel",
          "state": {
            "_view_name": "CheckboxView",
            "style": "IPY_MODEL_165ef46217364500835989d6bcfabccf",
            "_dom_classes": [],
            "description": "Show full output",
            "_model_name": "CheckboxModel",
            "_view_module": "@jupyter-widgets/controls",
            "_model_module_version": "1.5.0",
            "value": false,
            "_view_count": null,
            "disabled": false,
            "_view_module_version": "1.5.0",
            "indent": true,
            "description_tooltip": null,
            "_model_module": "@jupyter-widgets/controls",
            "layout": "IPY_MODEL_8b77a27f0c144d7ea5c951e4109c05d4"
          }
        },
        "165ef46217364500835989d6bcfabccf": {
          "model_module": "@jupyter-widgets/controls",
          "model_name": "DescriptionStyleModel",
          "state": {
            "_view_name": "StyleView",
            "_model_name": "DescriptionStyleModel",
            "description_width": "",
            "_view_module": "@jupyter-widgets/base",
            "_model_module_version": "1.5.0",
            "_view_count": null,
            "_view_module_version": "1.2.0",
            "_model_module": "@jupyter-widgets/controls"
          }
        },
        "8b77a27f0c144d7ea5c951e4109c05d4": {
          "model_module": "@jupyter-widgets/base",
          "model_name": "LayoutModel",
          "state": {
            "_view_name": "LayoutView",
            "grid_template_rows": null,
            "right": null,
            "justify_content": null,
            "_view_module": "@jupyter-widgets/base",
            "overflow": null,
            "_model_module_version": "1.2.0",
            "_view_count": null,
            "flex_flow": null,
            "width": null,
            "min_width": null,
            "border": null,
            "align_items": null,
            "bottom": null,
            "_model_module": "@jupyter-widgets/base",
            "top": null,
            "grid_column": null,
            "overflow_y": null,
            "overflow_x": null,
            "grid_auto_flow": null,
            "grid_area": null,
            "grid_template_columns": null,
            "flex": null,
            "_model_name": "LayoutModel",
            "justify_items": null,
            "grid_row": null,
            "max_height": null,
            "align_content": null,
            "visibility": null,
            "align_self": null,
            "height": null,
            "min_height": null,
            "padding": null,
            "grid_auto_rows": null,
            "grid_gap": null,
            "max_width": null,
            "order": null,
            "_view_module_version": "1.2.0",
            "grid_template_areas": null,
            "object_position": null,
            "object_fit": null,
            "grid_auto_columns": null,
            "margin": null,
            "display": null,
            "left": null
          }
        },
        "41d70e1a7d2641c4a97b541394062d71": {
          "model_module": "@jupyter-widgets/controls",
          "model_name": "CheckboxModel",
          "state": {
            "_view_name": "CheckboxView",
            "style": "IPY_MODEL_26987e90b3d64059975060eafb74c699",
            "_dom_classes": [],
            "description": "Use loudness statistics",
            "_model_name": "CheckboxModel",
            "_view_module": "@jupyter-widgets/controls",
            "_model_module_version": "1.5.0",
            "value": false,
            "_view_count": null,
            "disabled": false,
            "_view_module_version": "1.5.0",
            "indent": true,
            "description_tooltip": null,
            "_model_module": "@jupyter-widgets/controls",
            "layout": "IPY_MODEL_bc979a393cdd42cfa56d1f7628be0144"
          }
        },
        "26987e90b3d64059975060eafb74c699": {
          "model_module": "@jupyter-widgets/controls",
          "model_name": "DescriptionStyleModel",
          "state": {
            "_view_name": "StyleView",
            "_model_name": "DescriptionStyleModel",
            "description_width": "",
            "_view_module": "@jupyter-widgets/base",
            "_model_module_version": "1.5.0",
            "_view_count": null,
            "_view_module_version": "1.2.0",
            "_model_module": "@jupyter-widgets/controls"
          }
        },
        "bc979a393cdd42cfa56d1f7628be0144": {
          "model_module": "@jupyter-widgets/base",
          "model_name": "LayoutModel",
          "state": {
            "_view_name": "LayoutView",
            "grid_template_rows": null,
            "right": null,
            "justify_content": null,
            "_view_module": "@jupyter-widgets/base",
            "overflow": null,
            "_model_module_version": "1.2.0",
            "_view_count": null,
            "flex_flow": null,
            "width": null,
            "min_width": null,
            "border": null,
            "align_items": null,
            "bottom": null,
            "_model_module": "@jupyter-widgets/base",
            "top": null,
            "grid_column": null,
            "overflow_y": null,
            "overflow_x": null,
            "grid_auto_flow": null,
            "grid_area": null,
            "grid_template_columns": null,
            "flex": null,
            "_model_name": "LayoutModel",
            "justify_items": null,
            "grid_row": null,
            "max_height": null,
            "align_content": null,
            "visibility": null,
            "align_self": null,
            "height": null,
            "min_height": null,
            "padding": null,
            "grid_auto_rows": null,
            "grid_gap": null,
            "max_width": null,
            "order": null,
            "_view_module_version": "1.2.0",
            "grid_template_areas": null,
            "object_position": null,
            "object_fit": null,
            "grid_auto_columns": null,
            "margin": null,
            "display": null,
            "left": null
          }
        },
        "ff0d0389385745bd925cff69a6feea66": {
          "model_module": "@jupyter-widgets/controls",
          "model_name": "FloatSliderModel",
          "state": {
            "_view_name": "FloatSliderView",
            "style": "IPY_MODEL_0955d351a0194c22b5d08be09df630f7",
            "_dom_classes": [],
            "description": "Mask threshold:",
            "step": 0.1,
            "_model_name": "FloatSliderModel",
            "orientation": "horizontal",
            "max": 2,
            "_view_module": "@jupyter-widgets/controls",
            "_model_module_version": "1.5.0",
            "value": 1,
            "_view_count": null,
            "disabled": false,
            "_view_module_version": "1.5.0",
            "min": 0,
            "continuous_update": false,
            "readout_format": ".1f",
            "description_tooltip": null,
            "readout": true,
            "_model_module": "@jupyter-widgets/controls",
            "layout": "IPY_MODEL_b51b3d90e2a44ca18b73c9eb3f541a44"
          }
        },
        "0955d351a0194c22b5d08be09df630f7": {
          "model_module": "@jupyter-widgets/controls",
          "model_name": "SliderStyleModel",
          "state": {
            "_view_name": "StyleView",
            "handle_color": null,
            "_model_name": "SliderStyleModel",
            "description_width": "",
            "_view_module": "@jupyter-widgets/base",
            "_model_module_version": "1.5.0",
            "_view_count": null,
            "_view_module_version": "1.2.0",
            "_model_module": "@jupyter-widgets/controls"
          }
        },
        "b51b3d90e2a44ca18b73c9eb3f541a44": {
          "model_module": "@jupyter-widgets/base",
          "model_name": "LayoutModel",
          "state": {
            "_view_name": "LayoutView",
            "grid_template_rows": null,
            "right": null,
            "justify_content": null,
            "_view_module": "@jupyter-widgets/base",
            "overflow": null,
            "_model_module_version": "1.2.0",
            "_view_count": null,
            "flex_flow": null,
            "width": null,
            "min_width": null,
            "border": null,
            "align_items": null,
            "bottom": null,
            "_model_module": "@jupyter-widgets/base",
            "top": null,
            "grid_column": null,
            "overflow_y": null,
            "overflow_x": null,
            "grid_auto_flow": null,
            "grid_area": null,
            "grid_template_columns": null,
            "flex": null,
            "_model_name": "LayoutModel",
            "justify_items": null,
            "grid_row": null,
            "max_height": null,
            "align_content": null,
            "visibility": null,
            "align_self": null,
            "height": null,
            "min_height": null,
            "padding": null,
            "grid_auto_rows": null,
            "grid_gap": null,
            "max_width": null,
            "order": null,
            "_view_module_version": "1.2.0",
            "grid_template_areas": null,
            "object_position": null,
            "object_fit": null,
            "grid_auto_columns": null,
            "margin": null,
            "display": null,
            "left": null
          }
        },
        "f02b06937aea44529b370260ffeaa68f": {
          "model_module": "@jupyter-widgets/controls",
          "model_name": "IntSliderModel",
          "state": {
            "_view_name": "IntSliderView",
            "style": "IPY_MODEL_8cbe9f8a1af24a3da06d39402c830b0c",
            "_dom_classes": [],
            "description": "Attenuation:",
            "step": 1,
            "_model_name": "IntSliderModel",
            "orientation": "horizontal",
            "max": 50,
            "_view_module": "@jupyter-widgets/controls",
            "_model_module_version": "1.5.0",
            "value": 20,
            "_view_count": null,
            "disabled": false,
            "_view_module_version": "1.5.0",
            "min": 0,
            "continuous_update": false,
            "readout_format": "d",
            "description_tooltip": null,
            "readout": true,
            "_model_module": "@jupyter-widgets/controls",
            "layout": "IPY_MODEL_9bf53b9d0ff8489d9ad9cd48bafeca89"
          }
        },
        "8cbe9f8a1af24a3da06d39402c830b0c": {
          "model_module": "@jupyter-widgets/controls",
          "model_name": "SliderStyleModel",
          "state": {
            "_view_name": "StyleView",
            "handle_color": null,
            "_model_name": "SliderStyleModel",
            "description_width": "",
            "_view_module": "@jupyter-widgets/base",
            "_model_module_version": "1.5.0",
            "_view_count": null,
            "_view_module_version": "1.2.0",
            "_model_module": "@jupyter-widgets/controls"
          }
        },
        "9bf53b9d0ff8489d9ad9cd48bafeca89": {
          "model_module": "@jupyter-widgets/base",
          "model_name": "LayoutModel",
          "state": {
            "_view_name": "LayoutView",
            "grid_template_rows": null,
            "right": null,
            "justify_content": null,
            "_view_module": "@jupyter-widgets/base",
            "overflow": null,
            "_model_module_version": "1.2.0",
            "_view_count": null,
            "flex_flow": null,
            "width": null,
            "min_width": null,
            "border": null,
            "align_items": null,
            "bottom": null,
            "_model_module": "@jupyter-widgets/base",
            "top": null,
            "grid_column": null,
            "overflow_y": null,
            "overflow_x": null,
            "grid_auto_flow": null,
            "grid_area": null,
            "grid_template_columns": null,
            "flex": null,
            "_model_name": "LayoutModel",
            "justify_items": null,
            "grid_row": null,
            "max_height": null,
            "align_content": null,
            "visibility": null,
            "align_self": null,
            "height": null,
            "min_height": null,
            "padding": null,
            "grid_auto_rows": null,
            "grid_gap": null,
            "max_width": null,
            "order": null,
            "_view_module_version": "1.2.0",
            "grid_template_areas": null,
            "object_position": null,
            "object_fit": null,
            "grid_auto_columns": null,
            "margin": null,
            "display": null,
            "left": null
          }
        },
        "32f1a1a9b19c445c848ab106dfeb2bdd": {
          "model_module": "@jupyter-widgets/controls",
          "model_name": "FloatSliderModel",
          "state": {
            "_view_name": "FloatSliderView",
            "style": "IPY_MODEL_b7c43f360f2d4c0ea98574edae3f0cea",
            "_dom_classes": [],
            "description": "Autotune:",
            "step": 0.1,
            "_model_name": "FloatSliderModel",
            "orientation": "horizontal",
            "max": 1,
            "_view_module": "@jupyter-widgets/controls",
            "_model_module_version": "1.5.0",
            "value": 0,
            "_view_count": null,
            "disabled": false,
            "_view_module_version": "1.5.0",
            "min": 0,
            "continuous_update": false,
            "readout_format": ".1f",
            "description_tooltip": null,
            "readout": true,
            "_model_module": "@jupyter-widgets/controls",
            "layout": "IPY_MODEL_0528d186c91e4f04b9c2f6af5cabdc31"
          }
        },
        "b7c43f360f2d4c0ea98574edae3f0cea": {
          "model_module": "@jupyter-widgets/controls",
          "model_name": "SliderStyleModel",
          "state": {
            "_view_name": "StyleView",
            "handle_color": null,
            "_model_name": "SliderStyleModel",
            "description_width": "",
            "_view_module": "@jupyter-widgets/base",
            "_model_module_version": "1.5.0",
            "_view_count": null,
            "_view_module_version": "1.2.0",
            "_model_module": "@jupyter-widgets/controls"
          }
        },
        "0528d186c91e4f04b9c2f6af5cabdc31": {
          "model_module": "@jupyter-widgets/base",
          "model_name": "LayoutModel",
          "state": {
            "_view_name": "LayoutView",
            "grid_template_rows": null,
            "right": null,
            "justify_content": null,
            "_view_module": "@jupyter-widgets/base",
            "overflow": null,
            "_model_module_version": "1.2.0",
            "_view_count": null,
            "flex_flow": null,
            "width": null,
            "min_width": null,
            "border": null,
            "align_items": null,
            "bottom": null,
            "_model_module": "@jupyter-widgets/base",
            "top": null,
            "grid_column": null,
            "overflow_y": null,
            "overflow_x": null,
            "grid_auto_flow": null,
            "grid_area": null,
            "grid_template_columns": null,
            "flex": null,
            "_model_name": "LayoutModel",
            "justify_items": null,
            "grid_row": null,
            "max_height": null,
            "align_content": null,
            "visibility": null,
            "align_self": null,
            "height": null,
            "min_height": null,
            "padding": null,
            "grid_auto_rows": null,
            "grid_gap": null,
            "max_width": null,
            "order": null,
            "_view_module_version": "1.2.0",
            "grid_template_areas": null,
            "object_position": null,
            "object_fit": null,
            "grid_auto_columns": null,
            "margin": null,
            "display": null,
            "left": null
          }
        },
        "9c5d338a55c64781ac591885773da716": {
          "model_module": "@jupyter-widgets/controls",
          "model_name": "IntSliderModel",
          "state": {
            "_view_name": "IntSliderView",
            "style": "IPY_MODEL_db81eb84c2394cf08c635d5ce524b104",
            "_dom_classes": [],
            "description": "Octave shift:",
            "step": 1,
            "_model_name": "IntSliderModel",
            "orientation": "horizontal",
            "max": 3,
            "_view_module": "@jupyter-widgets/controls",
            "_model_module_version": "1.5.0",
            "value": 0,
            "_view_count": null,
            "disabled": false,
            "_view_module_version": "1.5.0",
            "min": -3,
            "continuous_update": false,
            "readout_format": "d",
            "description_tooltip": null,
            "readout": true,
            "_model_module": "@jupyter-widgets/controls",
            "layout": "IPY_MODEL_567a0ce5d05d4cb8975a3f7d06103ebe"
          }
        },
        "db81eb84c2394cf08c635d5ce524b104": {
          "model_module": "@jupyter-widgets/controls",
          "model_name": "SliderStyleModel",
          "state": {
            "_view_name": "StyleView",
            "handle_color": null,
            "_model_name": "SliderStyleModel",
            "description_width": "",
            "_view_module": "@jupyter-widgets/base",
            "_model_module_version": "1.5.0",
            "_view_count": null,
            "_view_module_version": "1.2.0",
            "_model_module": "@jupyter-widgets/controls"
          }
        },
        "567a0ce5d05d4cb8975a3f7d06103ebe": {
          "model_module": "@jupyter-widgets/base",
          "model_name": "LayoutModel",
          "state": {
            "_view_name": "LayoutView",
            "grid_template_rows": null,
            "right": null,
            "justify_content": null,
            "_view_module": "@jupyter-widgets/base",
            "overflow": null,
            "_model_module_version": "1.2.0",
            "_view_count": null,
            "flex_flow": null,
            "width": null,
            "min_width": null,
            "border": null,
            "align_items": null,
            "bottom": null,
            "_model_module": "@jupyter-widgets/base",
            "top": null,
            "grid_column": null,
            "overflow_y": null,
            "overflow_x": null,
            "grid_auto_flow": null,
            "grid_area": null,
            "grid_template_columns": null,
            "flex": null,
            "_model_name": "LayoutModel",
            "justify_items": null,
            "grid_row": null,
            "max_height": null,
            "align_content": null,
            "visibility": null,
            "align_self": null,
            "height": null,
            "min_height": null,
            "padding": null,
            "grid_auto_rows": null,
            "grid_gap": null,
            "max_width": null,
            "order": null,
            "_view_module_version": "1.2.0",
            "grid_template_areas": null,
            "object_position": null,
            "object_fit": null,
            "grid_auto_columns": null,
            "margin": null,
            "display": null,
            "left": null
          }
        },
        "c255eb7be74747d09d235f8cc22e4836": {
          "model_module": "@jupyter-widgets/controls",
          "model_name": "IntSliderModel",
          "state": {
            "_view_name": "IntSliderView",
            "style": "IPY_MODEL_f83b1c3afab3459b9e76259795f29ea9",
            "_dom_classes": [],
            "description": "Loudness shift:",
            "step": 5,
            "_model_name": "IntSliderModel",
            "orientation": "horizontal",
            "max": 30,
            "_view_module": "@jupyter-widgets/controls",
            "_model_module_version": "1.5.0",
            "value": 0,
            "_view_count": null,
            "disabled": false,
            "_view_module_version": "1.5.0",
            "min": -30,
            "continuous_update": false,
            "readout_format": "d",
            "description_tooltip": null,
            "readout": true,
            "_model_module": "@jupyter-widgets/controls",
            "layout": "IPY_MODEL_435050b4b95c41c5aa58025373329c02"
          }
        },
        "f83b1c3afab3459b9e76259795f29ea9": {
          "model_module": "@jupyter-widgets/controls",
          "model_name": "SliderStyleModel",
          "state": {
            "_view_name": "StyleView",
            "handle_color": null,
            "_model_name": "SliderStyleModel",
            "description_width": "",
            "_view_module": "@jupyter-widgets/base",
            "_model_module_version": "1.5.0",
            "_view_count": null,
            "_view_module_version": "1.2.0",
            "_model_module": "@jupyter-widgets/controls"
          }
        },
        "435050b4b95c41c5aa58025373329c02": {
          "model_module": "@jupyter-widgets/base",
          "model_name": "LayoutModel",
          "state": {
            "_view_name": "LayoutView",
            "grid_template_rows": null,
            "right": null,
            "justify_content": null,
            "_view_module": "@jupyter-widgets/base",
            "overflow": null,
            "_model_module_version": "1.2.0",
            "_view_count": null,
            "flex_flow": null,
            "width": null,
            "min_width": null,
            "border": null,
            "align_items": null,
            "bottom": null,
            "_model_module": "@jupyter-widgets/base",
            "top": null,
            "grid_column": null,
            "overflow_y": null,
            "overflow_x": null,
            "grid_auto_flow": null,
            "grid_area": null,
            "grid_template_columns": null,
            "flex": null,
            "_model_name": "LayoutModel",
            "justify_items": null,
            "grid_row": null,
            "max_height": null,
            "align_content": null,
            "visibility": null,
            "align_self": null,
            "height": null,
            "min_height": null,
            "padding": null,
            "grid_auto_rows": null,
            "grid_gap": null,
            "max_width": null,
            "order": null,
            "_view_module_version": "1.2.0",
            "grid_template_areas": null,
            "object_position": null,
            "object_fit": null,
            "grid_auto_columns": null,
            "margin": null,
            "display": null,
            "left": null
          }
        },
        "b8ede4cc6a254a0b8bee26372193ac20": {
          "model_module": "@jupyter-widgets/controls",
          "model_name": "ButtonModel",
          "state": {
            "_view_name": "ButtonView",
            "style": "IPY_MODEL_625de5377c0d49c18ad640c5f43decfb",
            "_dom_classes": [],
            "description": "Transfer timbre",
            "_model_name": "ButtonModel",
            "button_style": "primary",
            "_view_module": "@jupyter-widgets/controls",
            "_model_module_version": "1.5.0",
            "tooltip": "",
            "_view_count": null,
            "disabled": false,
            "_view_module_version": "1.5.0",
            "layout": "IPY_MODEL_4482c825f23e475b93a8964fdda60106",
            "_model_module": "@jupyter-widgets/controls",
            "icon": ""
          }
        },
        "625de5377c0d49c18ad640c5f43decfb": {
          "model_module": "@jupyter-widgets/controls",
          "model_name": "ButtonStyleModel",
          "state": {
            "_view_name": "StyleView",
            "_model_name": "ButtonStyleModel",
            "_view_module": "@jupyter-widgets/base",
            "_model_module_version": "1.5.0",
            "_view_count": null,
            "button_color": null,
            "font_weight": "",
            "_view_module_version": "1.2.0",
            "_model_module": "@jupyter-widgets/controls"
          }
        },
        "4482c825f23e475b93a8964fdda60106": {
          "model_module": "@jupyter-widgets/base",
          "model_name": "LayoutModel",
          "state": {
            "_view_name": "LayoutView",
            "grid_template_rows": null,
            "right": null,
            "justify_content": null,
            "_view_module": "@jupyter-widgets/base",
            "overflow": null,
            "_model_module_version": "1.2.0",
            "_view_count": null,
            "flex_flow": null,
            "width": "auto",
            "min_width": null,
            "border": null,
            "align_items": null,
            "bottom": null,
            "_model_module": "@jupyter-widgets/base",
            "top": null,
            "grid_column": null,
            "overflow_y": null,
            "overflow_x": null,
            "grid_auto_flow": null,
            "grid_area": null,
            "grid_template_columns": null,
            "flex": null,
            "_model_name": "LayoutModel",
            "justify_items": null,
            "grid_row": null,
            "max_height": null,
            "align_content": null,
            "visibility": null,
            "align_self": null,
            "height": null,
            "min_height": null,
            "padding": null,
            "grid_auto_rows": null,
            "grid_gap": null,
            "max_width": null,
            "order": null,
            "_view_module_version": "1.2.0",
            "grid_template_areas": null,
            "object_position": null,
            "object_fit": null,
            "grid_auto_columns": null,
            "margin": null,
            "display": null,
            "left": null
          }
        }
      }
    }
  },
  "cells": [
    {
      "cell_type": "code",
      "metadata": {
        "id": "fkCBYJgyvGAc",
        "outputId": "230ced30-8c26-49ab-e9a4-762f7f59dcc7",
        "colab": {
          "base_uri": "https://localhost:8080/"
        }
      },
      "source": [
        "from google.colab import files, drive\n",
        "drive.mount('/content/drive')"
      ],
      "execution_count": 1,
      "outputs": [
        {
          "output_type": "stream",
          "text": [
            "Mounted at /content/drive\n"
          ],
          "name": "stdout"
        }
      ]
    },
    {
      "cell_type": "code",
      "metadata": {
        "id": "n9fQSNVrwreY"
      },
      "source": [
        "DRIVE_BASE_DIR = '/SMC 09/DDSP' \n",
        "INSTRUMENTS_FOLDER = 'instruments'\n",
        "EXAMPLES_FOLDER = 'examples'"
      ],
      "execution_count": 2,
      "outputs": []
    },
    {
      "cell_type": "markdown",
      "metadata": {
        "id": "cDjCZ1hHEHmS"
      },
      "source": [
        "#Install, import and setup files\n",
        "1.   Install DDSP\n",
        "2.   Import Python libraries\n",
        "3.   Copy instruments and examples to Colab"
      ]
    },
    {
      "cell_type": "code",
      "metadata": {
        "id": "XhqoaVStEDaj",
        "outputId": "63fc5d77-acfa-431e-ec6e-eb95fef5132a",
        "colab": {
          "base_uri": "https://localhost:8080/"
        }
      },
      "source": [
        "%tensorflow_version 2.x\n",
        "!pip install -qU ddsp==0.14.0"
      ],
      "execution_count": 3,
      "outputs": [
        {
          "output_type": "stream",
          "text": [
            "\u001b[K     |████████████████████████████████| 153kB 13.7MB/s \n",
            "\u001b[K     |████████████████████████████████| 92kB 8.3MB/s \n",
            "\u001b[K     |████████████████████████████████| 3.7MB 21.0MB/s \n",
            "\u001b[K     |████████████████████████████████| 368kB 47.7MB/s \n",
            "\u001b[?25h  Building wheel for mir-eval (setup.py) ... \u001b[?25l\u001b[?25hdone\n",
            "  Building wheel for cloudml-hypertune (setup.py) ... \u001b[?25l\u001b[?25hdone\n",
            "  Building wheel for crepe (setup.py) ... \u001b[?25l\u001b[?25hdone\n"
          ],
          "name": "stdout"
        }
      ]
    },
    {
      "cell_type": "code",
      "metadata": {
        "id": "tMZI6KnSEjAG"
      },
      "source": [
        "import warnings\n",
        "import copy\n",
        "import os\n",
        "import time\n",
        "import glob\n",
        "import gin\n",
        "import librosa\n",
        "import pickle\n",
        "import crepe\n",
        "import ddsp\n",
        "import ddsp.training\n",
        "\n",
        "import matplotlib.pyplot as plt\n",
        "import numpy as np\n",
        "import tensorflow.compat.v2 as tf\n",
        "import tensorflow_datasets as tfds\n",
        "import ipywidgets as widgets\n",
        "\n",
        "from ddsp.colab import colab_utils\n",
        "from ddsp.colab.colab_utils import (\n",
        "    auto_tune, detect_notes, fit_quantile_transform, \n",
        "    get_tuning_factor, download, play, record, audio_bytes_to_np,\n",
        "    specplot, upload, DEFAULT_SAMPLE_RATE)\n",
        "from google.colab import files\n",
        "from ipywidgets import interact\n",
        "from IPython.display import Javascript\n",
        "\n",
        "\n",
        "sample_rate = DEFAULT_SAMPLE_RATE  # 16000\n",
        "\n",
        "\n",
        "#Use retina mode\n",
        "%config InlineBackend.figure_format='retina'\n",
        "\n",
        "#Ignore warnings\n",
        "warnings.filterwarnings(\"ignore\")\n",
        "\n",
        "#Set some globals\n",
        "REALEXAMPLE = ''\n",
        "REALINSTRUMENT = ''\n",
        "audio = None\n",
        "audio_features = None\n",
        "audio_features_mod = None\n",
        "ckpt = None\n",
        "model = None\n",
        "DATASET_STATS = None\n",
        "\n",
        "TRIM = -15"
      ],
      "execution_count": 4,
      "outputs": []
    },
    {
      "cell_type": "code",
      "metadata": {
        "id": "S7MO01A1_JMY",
        "outputId": "59a71400-541c-449a-e107-31620e8d8468",
        "colab": {
          "base_uri": "https://localhost:8080/"
        }
      },
      "source": [
        "\n",
        "DRIVE_BASE_DIR = '/content/drive/My Drive' + DRIVE_BASE_DIR\n",
        "EXAMPLES_DIR = DRIVE_BASE_DIR + '/' + EXAMPLES_FOLDER\n",
        "assert os.path.exists(EXAMPLES_DIR)\n",
        "COLAB_EXAMPLES_DIR = 'data/examples' \n",
        "!mkdir -p $COLAB_EXAMPLES_DIR\n",
        "\n",
        "mp3_files = glob.glob(os.path.join(EXAMPLES_DIR, '*.mp3'))\n",
        "wav_files = glob.glob(os.path.join(EXAMPLES_DIR, '*.wav'))\n",
        "audio_files = mp3_files + wav_files\n",
        "example_file_list = [os.path.basename(file) for file in (audio_files)]\n",
        "example_file_list.sort()\n",
        "\n",
        "print(\"Copying {} examples\".format(len(example_file_list)))\n",
        "for fname in audio_files:\n",
        "    target_name = os.path.join(COLAB_EXAMPLES_DIR, \n",
        "                               os.path.basename(fname).replace(' ', '_').replace('\\'', '_'))\n",
        "    #print('  {}'.format(target_name))\n",
        "    !cp \"$fname\" $target_name\n",
        "\n",
        "\n",
        "INSTRUMENTS_DIR = DRIVE_BASE_DIR + '/' + INSTRUMENTS_FOLDER\n",
        "assert os.path.exists(INSTRUMENTS_DIR)\n",
        "COLAB_INSTRUMENTS_DIR = 'data/instruments' \n",
        "!mkdir -p $COLAB_INSTRUMENTS_DIR\n",
        "\n",
        "zip_files = glob.glob(os.path.join(INSTRUMENTS_DIR, '*.zip'))\n",
        "instrument_file_list = [os.path.basename(file) for file in (zip_files)]\n",
        "instrument_file_list.sort()\n",
        "\n",
        "print(\"Copying {} instruments\".format(len(instrument_file_list)))\n",
        "for fname in zip_files:\n",
        "    target_name = os.path.join(COLAB_INSTRUMENTS_DIR, \n",
        "                               os.path.basename(fname).replace(' ', '_').replace('\\'', '_'))\n",
        "    #print('  {}'.format(target_name))\n",
        "    !cp \"$fname\" $target_name\n"
      ],
      "execution_count": 5,
      "outputs": [
        {
          "output_type": "stream",
          "text": [
            "Copying 20 examples\n",
            "Copying 13 instruments\n"
          ],
          "name": "stdout"
        }
      ]
    },
    {
      "cell_type": "markdown",
      "metadata": {
        "id": "BMH14x2OFA0c"
      },
      "source": [
        "# Helper functions"
      ]
    },
    {
      "cell_type": "code",
      "metadata": {
        "id": "FCpZbpQZP8Ry"
      },
      "source": [
        "def load_instrument(instrument_name):\n",
        "\n",
        "  global REALINSTRUMENT, model, ckpt, DATASET_STATS\n",
        "\n",
        "  if (REALINSTRUMENT!=instrument_name):\n",
        "    print('Loading the model...')\n",
        "    REALINSTRUMENT=instrument_name\n",
        "    start_time = time.time()\n",
        "    \n",
        "    COLAB_MODEL_DIR = COLAB_INSTRUMENTS_DIR + '/current'\n",
        "    print(f'Unziping {instrument_name}')\n",
        "    !rm -r $COLAB_MODEL_DIR\n",
        "    !unzip -j $COLAB_INSTRUMENTS_DIR'/'$instrument_name -d $COLAB_MODEL_DIR &> /dev/null\n",
        "  \n",
        "    #gin file\n",
        "    gin_file = os.path.join(COLAB_MODEL_DIR, 'operative_config-0.gin')\n",
        "    with gin.unlock_config():\n",
        "      gin.parse_config_file(gin_file, skip_unknown=True)\n",
        "\n",
        "    #stats\n",
        "    dataset_stats_file = os.path.join(COLAB_MODEL_DIR, 'dataset_statistics.pkl')\n",
        "    print(f'Loading dataset statistics from {dataset_stats_file}')\n",
        "    try:\n",
        "      if tf.io.gfile.exists(dataset_stats_file):\n",
        "        with tf.io.gfile.GFile(dataset_stats_file, 'rb') as f:\n",
        "          DATASET_STATS = pickle.load(f)\n",
        "      else:\n",
        "          print('WARNING: pickle file not present')\n",
        "          DATASET_STATS = None\n",
        "    except Exception as err:\n",
        "      print('Loading dataset statistics from pickle failed: {}.'.format(err))\n",
        "  \n",
        "    #checkpoints\n",
        "    ckpt_files = [f for f in tf.io.gfile.listdir(COLAB_MODEL_DIR) if 'ckpt' in f]\n",
        "    ckpt_name = ckpt_files[0].split('.')[0]\n",
        "    ckpt = os.path.join(COLAB_MODEL_DIR, ckpt_name)\n",
        "    print('Restoring checkpoint %s took %.1f seconds' % (ckpt_name, time.time() - start_time))\n",
        "\n",
        "    if REALEXAMPLE != '' and REALINSTRUMENT != '':\n",
        "      print(\"Restoring model from load_instrument\")\n",
        "      restore_model()"
      ],
      "execution_count": 6,
      "outputs": []
    },
    {
      "cell_type": "code",
      "metadata": {
        "id": "_zHRDn7fFElh"
      },
      "source": [
        "def load_example(example_name):\n",
        "\n",
        "  global REALEXAMPLE, audio, audio_features\n",
        "\n",
        "  if (REALEXAMPLE!=example_name):\n",
        "    print('Loading audio and extracting features...')\n",
        "    REALEXAMPLE=example_name\n",
        "    start_time = time.time()\n",
        "\n",
        "    with open(COLAB_EXAMPLES_DIR+'/'+REALEXAMPLE, 'rb') as fd:\n",
        "      contents = fd.read()\n",
        "\n",
        "    audio = audio_bytes_to_np(contents, sample_rate=DEFAULT_SAMPLE_RATE, normalize_db=None)\n",
        "    audio = audio[np.newaxis, :]\n",
        "\n",
        "    #Compute features.\n",
        "    ddsp.spectral_ops.reset_crepe()\n",
        "    audio_features = ddsp.training.metrics.compute_audio_features(audio)\n",
        "    audio_features['loudness_db'] = audio_features['loudness_db'].astype(np.float32)\n",
        "    print('Operation took %.1f seconds' % (time.time() - start_time))\n",
        "\n",
        "    if REALEXAMPLE != '' and REALINSTRUMENT != '':\n",
        "      print(\"Restoring model from load_example\")\n",
        "      restore_model()\n"
      ],
      "execution_count": 7,
      "outputs": []
    },
    {
      "cell_type": "code",
      "metadata": {
        "id": "2y4Y3DGGgXMf"
      },
      "source": [
        "def restore_model():\n",
        "  global model, audio_features, ckpt\n",
        "\n",
        "  #Ensure dimensions and sampling rates are equal\n",
        "  time_steps_train = gin.query_parameter('DefaultPreprocessor.time_steps')\n",
        "  n_samples_train = gin.query_parameter('Additive.n_samples')\n",
        "  hop_size = int(n_samples_train / time_steps_train)\n",
        "\n",
        "  time_steps = int(audio.shape[1] / hop_size)\n",
        "  n_samples = time_steps * hop_size\n",
        "\n",
        "  gin_params = [\n",
        "      'Additive.n_samples = {}'.format(n_samples),\n",
        "      'FilteredNoise.n_samples = {}'.format(n_samples),\n",
        "      'DefaultPreprocessor.time_steps = {}'.format(time_steps),\n",
        "      'oscillator_bank.use_angular_cumsum = True',  # Avoids cumsum accumulation errors.\n",
        "  ]\n",
        "\n",
        "  with gin.unlock_config():\n",
        "    gin.parse_config(gin_params)\n",
        "\n",
        "  # Trim all input vectors to correct lengths \n",
        "  for key in ['f0_hz', 'f0_confidence', 'loudness_db']:\n",
        "      audio_features[key] = audio_features[key][:time_steps]\n",
        "  audio_features['audio'] = audio_features['audio'][:, :n_samples]\n",
        "\n",
        "  #Set up the model just to predict audio given new conditioning\n",
        "  model = ddsp.training.models.Autoencoder()\n",
        "  model.restore(ckpt)"
      ],
      "execution_count": 8,
      "outputs": []
    },
    {
      "cell_type": "code",
      "metadata": {
        "id": "FSuV1jzkVCF1"
      },
      "source": [
        "def shift_loudness(audio_features, ld_shift=0.0):\n",
        "  #Shift loudness by a number of dB\n",
        "  audio_features['loudness_db'] += ld_shift\n",
        "  return audio_features\n",
        "\n",
        "\n",
        "def shift_f0(audio_features, octave_shift=0.0):\n",
        "  #Shift f0 by a number of octaves\n",
        "  audio_features['f0_hz'] *= 2.0 ** (octave_shift)\n",
        "  audio_features['f0_hz'] = np.clip(audio_features['f0_hz'], \n",
        "                                    0.0, \n",
        "                                    librosa.midi_to_hz(110.0))\n",
        "  return audio_features"
      ],
      "execution_count": 9,
      "outputs": []
    },
    {
      "cell_type": "code",
      "metadata": {
        "id": "_ixt36c7Oj5G"
      },
      "source": [
        "def compute_audio_features():\n",
        "\n",
        "  global audio_features_mod, mask_on, loudness_norm, note_on_ratio, f0_midi_at\n",
        "\n",
        "  audio_features_mod = {k: v.copy() for k, v in audio_features.items()}\n",
        "\n",
        "  mask_on, note_on_ratio = detect_notes(audio_features['loudness_db'],\n",
        "                                        audio_features['f0_confidence'],\n",
        "                                        mask_threshold, \n",
        "                                        exponent=2.0)\n",
        "\n",
        "  if DATASET_STATS is not None:\n",
        "    _, loudness_norm = fit_quantile_transform(audio_features['loudness_db'],\n",
        "                                              mask_on,\n",
        "                                              inv_quantile=DATASET_STATS['quantile_transform'])\n",
        "\n",
        "    mask_off = np.logical_not(mask_on)\n",
        "    loudness_norm[mask_off] -=  quiet * (1.0 - note_on_ratio[mask_off][:, np.newaxis])\n",
        "    loudness_norm = np.reshape(loudness_norm, audio_features['loudness_db'].shape) \n",
        "    if use_norm:\n",
        "      audio_features_mod['loudness_db'] = loudness_norm \n",
        "\n",
        "\n",
        "  if autotune_amount > 0:\n",
        "    f0_midi = np.array(ddsp.core.hz_to_midi(audio_features_mod['f0_hz']))\n",
        "    tuning_factor = get_tuning_factor(f0_midi, audio_features_mod['f0_confidence'], mask_on)\n",
        "    f0_midi_at = auto_tune(f0_midi, tuning_factor, mask_on, amount=autotune_amount, chromatic=True)\n",
        "    audio_features_mod['f0_hz'] = ddsp.core.midi_to_hz(f0_midi_at)\n",
        "\n",
        "  audio_features_mod = shift_loudness(audio_features_mod, loudness_shift)\n",
        "  audio_features_mod = shift_f0(audio_features_mod, octave_shift)"
      ],
      "execution_count": 10,
      "outputs": []
    },
    {
      "cell_type": "code",
      "metadata": {
        "id": "Y5uSNclbRIxt"
      },
      "source": [
        "def run_model():\n",
        "\n",
        "  # Run a batch of predictions.\n",
        "  start_time = time.time()\n",
        "\n",
        "  outputs = model(audio_features_mod, training=False)\n",
        "  audio_gen = model.get_audio_from_outputs(outputs)\n",
        "\n",
        "  #Old code for DDSP v0.13.0\n",
        "  #controls =  model.get_controls(audio_features_mod, training=False)\n",
        "  #audio_gen = controls['processor_group']['signal']\n",
        "\n",
        "  #with out:\n",
        "  print('Prediction took %.1f seconds' % (time.time() - start_time))\n",
        "\n",
        "  # Plot\n",
        "  if full_output_checkbox.value:\n",
        "    print('Original')\n",
        "    play(audio)\n",
        "\n",
        "  print('Resynthesis')\n",
        "  play(audio_gen)\n",
        "\n",
        "  if full_output_checkbox.value:\n",
        "    specplot(audio)\n",
        "    plt.title(\"Original\")\n",
        "\n",
        "  specplot(audio_gen)\n",
        "  _ = plt.title(\"Resynthesis\")"
      ],
      "execution_count": 11,
      "outputs": []
    },
    {
      "cell_type": "code",
      "metadata": {
        "id": "HeEM-oXCTTKV"
      },
      "source": [
        "def plot_data():\n",
        "  #auto octave adjustment.\n",
        "  pitch = ddsp.core.hz_to_midi(audio_features['f0_hz'])\n",
        "  example_mean_pitch = np.mean(pitch[mask_on])\n",
        "  if DATASET_STATS is not None:\n",
        "    instrument_mean_pitch = DATASET_STATS['mean_pitch']\n",
        "  else:\n",
        "    instrument_mean_pitch = example_mean_pitch\n",
        "  #p_diff = instrument_mean_pitch - example_mean_pitch\n",
        "  #p_diff_octave = p_diff / 12.0\n",
        "  #round_fn = np.floor if p_diff_octave > 1.5 else np.ceil\n",
        "  #p_diff_octave = round_fn(p_diff_octave)\n",
        "  #audio_features_mod = shift_f0(audio_features_mod, p_diff_octave)\n",
        "\n",
        "  #with out:\n",
        "  fig, ax = plt.subplots(nrows=4, ncols=1, sharex=True, figsize=(15.5, 10))\n",
        "  ax[0].plot(audio_features['loudness_db'])\n",
        "  if DATASET_STATS is not None:\n",
        "    ax[0].plot(loudness_norm)\n",
        "    ax[0].legend(['Original', 'Norm'])\n",
        "  else:\n",
        "    ax[0].legend(['Original'])\n",
        "  ax[0].set_ylabel('Loudness')\n",
        "  ax[0].set_ylim(-100,0)\n",
        "  ax[1].plot(librosa.hz_to_midi(audio_features['f0_hz']))\n",
        "  ax[1].plot(np.ones_like(mask_on) * instrument_mean_pitch, ':')\n",
        "  ax[1].plot(np.ones_like(mask_on) * example_mean_pitch, ':')\n",
        "  if autotune_amount > 0:\n",
        "    ax[1].plot(f0_midi_at)\n",
        "    ax[1].legend(['Pitch', 'Instrument pitch','Example pitch', 'autotune'])\n",
        "  else:\n",
        "    ax[1].legend(['Pitch', 'Instrument pitch','Example pitch'])\n",
        "  ax[1].set_ylabel('f0 [MIDI]')\n",
        "  ax[1].set_ylim(bottom=36)\n",
        "  ax[2].plot(audio_features['f0_confidence'])\n",
        "  ax[2].set_ylabel('f0 confidence')\n",
        "  ax[3].plot(note_on_ratio)\n",
        "  ax[3].plot(np.ones_like(mask_on) * mask_threshold, 'k:')\n",
        "  ax[3].plot(mask_on)\n",
        "  ax[3].set_ylabel('Note-on Mask')\n",
        "  ax[3].legend(['Note-on ratio', 'Threshold', 'Mask'])\n",
        "  _=ax[3].set_xlabel('Time step [frame]')"
      ],
      "execution_count": 12,
      "outputs": []
    },
    {
      "cell_type": "markdown",
      "metadata": {
        "id": "IeXVSdFBUE2u"
      },
      "source": [
        "#GUI components"
      ]
    },
    {
      "cell_type": "code",
      "metadata": {
        "id": "63evlTH1UJ39"
      },
      "source": [
        "instrument_widget = widgets.Dropdown(options = instrument_file_list, value=instrument_file_list[2], description='Instrument:')\n",
        "example_widget = widgets.Dropdown(options = example_file_list, value=example_file_list[13], description='Example:')\n",
        "\n",
        "go_button = widgets.Button(\n",
        "    description='Transfer timbre',\n",
        "    button_style='primary', \n",
        "    layout=widgets.Layout(width='auto')\n",
        ")\n",
        "\n",
        "def go_eventhandler(change):\n",
        "  \n",
        "  global use_norm, mask_threshold, quiet, autotune_amount, octave_shift, loudness_shift\n",
        "\n",
        "  #out.clear_output()\n",
        "\n",
        "  use_norm = use_norm_checkbox.value\n",
        "  mask_threshold = mask_threshold_slider.value\n",
        "  quiet = quiet_slider.value\n",
        "  autotune_amount = autotune_amount_slider.value\n",
        "  octave_shift = octave_shift_slider.value\n",
        "  loudness_shift = loudness_shift_slider.value\n",
        "\n",
        "  #with out:\n",
        "  print()\n",
        "  print(\"EXAMPLE = '%s'\" % REALEXAMPLE)\n",
        "  print(\"INSTRUMENT = '%s\" % REALINSTRUMENT)\n",
        "  print('use_norm = %s' % ('True' if use_norm else 'False'))\n",
        "  print('mask_threshold = %.2f' % mask_threshold)\n",
        "  print('quiet = %d' % quiet)\n",
        "  print('autotune_amount = %.2f' % autotune_amount)\n",
        "  print('octave_shift = %.2f' % octave_shift)\n",
        "  print('loudness_shift = %d' % loudness_shift)\n",
        "  print()\n",
        "\n",
        "  compute_audio_features()\n",
        "  run_model()\n",
        "  plot_data()\n",
        "\n",
        "go_button.on_click(go_eventhandler)\n",
        "\n",
        "full_output_checkbox = widgets.Checkbox(\n",
        "    value=False,\n",
        "    description='Show full output'\n",
        ")\n",
        "\n",
        "use_norm_checkbox = widgets.Checkbox(\n",
        "    value=False,\n",
        "    description='Use loudness statistics'\n",
        ")\n",
        "\n",
        "mask_threshold_slider = widgets.FloatSlider(\n",
        "    value=1,\n",
        "    min=0,\n",
        "    max=2,\n",
        "    step=0.1,\n",
        "    description='Mask threshold:',\n",
        "    continuous_update=False,\n",
        "    readout=True,\n",
        "    readout_format='.1f',\n",
        ")\n",
        "\n",
        "quiet_slider = widgets.IntSlider(\n",
        "    value=20,\n",
        "    min=0,\n",
        "    max=50,\n",
        "    step=1,\n",
        "    description='Attenuation:',\n",
        "    continuous_update=False,\n",
        "    readout=True,\n",
        "    readout_format='d'\n",
        ")\n",
        "autotune_amount_slider = widgets.FloatSlider(\n",
        "    value=0,\n",
        "    min=0,\n",
        "    max=1,\n",
        "    step=0.1,\n",
        "    description='Autotune:',\n",
        "    continuous_update=False,\n",
        "    readout=True,\n",
        "    readout_format='.1f',\n",
        ")\n",
        "octave_shift_slider = widgets.IntSlider(\n",
        "    value=0,\n",
        "    min=-3,\n",
        "    max=3,\n",
        "    step=1,\n",
        "    description='Octave shift:',\n",
        "    continuous_update=False,\n",
        "    readout=True,\n",
        "    readout_format='d'\n",
        ")\n",
        "\n",
        "loudness_shift_slider = widgets.IntSlider(\n",
        "    value=0,\n",
        "    min=-30,\n",
        "    max=30,\n",
        "    step=5,\n",
        "    description='Loudness shift:',\n",
        "    continuous_update=False,\n",
        "    readout=True,\n",
        "    readout_format='d'\n",
        ")"
      ],
      "execution_count": 13,
      "outputs": []
    },
    {
      "cell_type": "markdown",
      "metadata": {
        "id": "msHYBIy19FE7"
      },
      "source": [
        "#Set instrument and example"
      ]
    },
    {
      "cell_type": "code",
      "metadata": {
        "cellView": "both",
        "id": "LYJVJZFWjgIO",
        "outputId": "ab0cb29c-5dd7-4f1c-8277-c31780ad4ef6",
        "colab": {
          "base_uri": "https://localhost:8080/",
          "height": 228,
          "referenced_widgets": [
            "31dc19ccff80401881afd6c1a8388474",
            "2790b31acc094ea096ba3269abf4e54e",
            "a4314bf9ed4c4669bcd0020a5e0214cf",
            "64443ad25e5b4009adab2e7908e710fc",
            "b7b0302d72864902aef1721952a4c57b",
            "2f40d374146d4c85a9b824b2e1929a24",
            "85d42430227441f0b6640d1c8073e966",
            "d4019fbe2f8c4418b6565a1f310ee3a5",
            "315c384b0e2047318cefa82ebabfcda1",
            "62e255bf74aa4549af4e7014762f62eb",
            "60f49e3dd6564a7e89bd36d121464b15",
            "09eca9ec913545c3849167f999445179",
            "63bf8795749a45a49e6e6150dadba15e",
            "65af0bdf9e314dd88e38a7b48921348a"
          ]
        }
      },
      "source": [
        "interact(load_instrument, instrument_name=instrument_widget);\n",
        "interact(load_example, example_name=example_widget);"
      ],
      "execution_count": 14,
      "outputs": [
        {
          "output_type": "display_data",
          "data": {
            "application/vnd.jupyter.widget-view+json": {
              "model_id": "31dc19ccff80401881afd6c1a8388474",
              "version_minor": 0,
              "version_major": 2
            },
            "text/plain": [
              "interactive(children=(Dropdown(description='Instrument:', index=2, options=('alba_40k_instrument.zip', 'belen_…"
            ]
          },
          "metadata": {
            "tags": []
          }
        },
        {
          "output_type": "display_data",
          "data": {
            "application/vnd.jupyter.widget-view+json": {
              "model_id": "d4019fbe2f8c4418b6565a1f310ee3a5",
              "version_minor": 0,
              "version_major": 2
            },
            "text/plain": [
              "interactive(children=(Dropdown(description='Example:', index=13, options=('instr_cello.mp3', 'instr_family.mp3…"
            ]
          },
          "metadata": {
            "tags": []
          }
        }
      ]
    },
    {
      "cell_type": "markdown",
      "metadata": {
        "id": "m7vulQQeiPcI"
      },
      "source": [
        "#Preprocessing"
      ]
    },
    {
      "cell_type": "code",
      "metadata": {
        "id": "7kQw32hGA-g3",
        "outputId": "c422443d-4c64-4b3a-8061-9a3ee660a513",
        "colab": {
          "base_uri": "https://localhost:8080/",
          "height": 261,
          "referenced_widgets": [
            "e8ce8981fa0f45f68997b419f8f7856b",
            "165ef46217364500835989d6bcfabccf",
            "8b77a27f0c144d7ea5c951e4109c05d4",
            "41d70e1a7d2641c4a97b541394062d71",
            "26987e90b3d64059975060eafb74c699",
            "bc979a393cdd42cfa56d1f7628be0144",
            "ff0d0389385745bd925cff69a6feea66",
            "0955d351a0194c22b5d08be09df630f7",
            "b51b3d90e2a44ca18b73c9eb3f541a44",
            "f02b06937aea44529b370260ffeaa68f",
            "8cbe9f8a1af24a3da06d39402c830b0c",
            "9bf53b9d0ff8489d9ad9cd48bafeca89",
            "32f1a1a9b19c445c848ab106dfeb2bdd",
            "b7c43f360f2d4c0ea98574edae3f0cea",
            "0528d186c91e4f04b9c2f6af5cabdc31",
            "9c5d338a55c64781ac591885773da716",
            "db81eb84c2394cf08c635d5ce524b104",
            "567a0ce5d05d4cb8975a3f7d06103ebe",
            "c255eb7be74747d09d235f8cc22e4836",
            "f83b1c3afab3459b9e76259795f29ea9",
            "435050b4b95c41c5aa58025373329c02",
            "b8ede4cc6a254a0b8bee26372193ac20",
            "625de5377c0d49c18ad640c5f43decfb",
            "4482c825f23e475b93a8964fdda60106"
          ]
        }
      },
      "source": [
        "#Improve loudness with statistical info\n",
        "display(full_output_checkbox)\n",
        "display(use_norm_checkbox)\n",
        "display(mask_threshold_slider)\n",
        "display(quiet_slider)\n",
        "\n",
        "#Improve pitch\n",
        "display(autotune_amount_slider)\n",
        "\n",
        "#Adjust source material to model pitch and loudness\n",
        "display(octave_shift_slider)\n",
        "display(loudness_shift_slider)\n",
        "\n",
        "display(go_button)\n"
      ],
      "execution_count": 15,
      "outputs": [
        {
          "output_type": "display_data",
          "data": {
            "application/vnd.jupyter.widget-view+json": {
              "model_id": "e8ce8981fa0f45f68997b419f8f7856b",
              "version_minor": 0,
              "version_major": 2
            },
            "text/plain": [
              "Checkbox(value=False, description='Show full output')"
            ]
          },
          "metadata": {
            "tags": []
          }
        },
        {
          "output_type": "display_data",
          "data": {
            "application/vnd.jupyter.widget-view+json": {
              "model_id": "41d70e1a7d2641c4a97b541394062d71",
              "version_minor": 0,
              "version_major": 2
            },
            "text/plain": [
              "Checkbox(value=False, description='Use loudness statistics')"
            ]
          },
          "metadata": {
            "tags": []
          }
        },
        {
          "output_type": "display_data",
          "data": {
            "application/vnd.jupyter.widget-view+json": {
              "model_id": "ff0d0389385745bd925cff69a6feea66",
              "version_minor": 0,
              "version_major": 2
            },
            "text/plain": [
              "FloatSlider(value=1.0, continuous_update=False, description='Mask threshold:', max=2.0, readout_format='.1f')"
            ]
          },
          "metadata": {
            "tags": []
          }
        },
        {
          "output_type": "display_data",
          "data": {
            "application/vnd.jupyter.widget-view+json": {
              "model_id": "f02b06937aea44529b370260ffeaa68f",
              "version_minor": 0,
              "version_major": 2
            },
            "text/plain": [
              "IntSlider(value=20, continuous_update=False, description='Attenuation:', max=50)"
            ]
          },
          "metadata": {
            "tags": []
          }
        },
        {
          "output_type": "display_data",
          "data": {
            "application/vnd.jupyter.widget-view+json": {
              "model_id": "32f1a1a9b19c445c848ab106dfeb2bdd",
              "version_minor": 0,
              "version_major": 2
            },
            "text/plain": [
              "FloatSlider(value=0.0, continuous_update=False, description='Autotune:', max=1.0, readout_format='.1f')"
            ]
          },
          "metadata": {
            "tags": []
          }
        },
        {
          "output_type": "display_data",
          "data": {
            "application/vnd.jupyter.widget-view+json": {
              "model_id": "9c5d338a55c64781ac591885773da716",
              "version_minor": 0,
              "version_major": 2
            },
            "text/plain": [
              "IntSlider(value=0, continuous_update=False, description='Octave shift:', max=3, min=-3)"
            ]
          },
          "metadata": {
            "tags": []
          }
        },
        {
          "output_type": "display_data",
          "data": {
            "application/vnd.jupyter.widget-view+json": {
              "model_id": "c255eb7be74747d09d235f8cc22e4836",
              "version_minor": 0,
              "version_major": 2
            },
            "text/plain": [
              "IntSlider(value=0, continuous_update=False, description='Loudness shift:', max=30, min=-30, step=5)"
            ]
          },
          "metadata": {
            "tags": []
          }
        },
        {
          "output_type": "display_data",
          "data": {
            "application/vnd.jupyter.widget-view+json": {
              "model_id": "b8ede4cc6a254a0b8bee26372193ac20",
              "version_minor": 0,
              "version_major": 2
            },
            "text/plain": [
              "Button(button_style='primary', description='Transfer timbre', layout=Layout(width='auto'), style=ButtonStyle()…"
            ]
          },
          "metadata": {
            "tags": []
          }
        }
      ]
    }
  ]
}